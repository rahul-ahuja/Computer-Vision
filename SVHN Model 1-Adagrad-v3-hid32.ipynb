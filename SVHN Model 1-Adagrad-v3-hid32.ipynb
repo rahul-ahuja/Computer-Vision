{
 "cells": [
  {
   "cell_type": "code",
   "execution_count": 1,
   "metadata": {
    "collapsed": true
   },
   "outputs": [],
   "source": [
    "# These are all the modules we'll be using later. Make sure you can import them\n",
    "# before proceeding further.\n",
    "from __future__ import print_function\n",
    "import numpy as np\n",
    "import tensorflow as tf\n",
    "from six.moves import cPickle as pickle\n",
    "from six.moves import range\n",
    "import time\n",
    "from datetime import timedelta"
   ]
  },
  {
   "cell_type": "code",
   "execution_count": 2,
   "metadata": {
    "collapsed": false
   },
   "outputs": [],
   "source": [
    "total_data = pickle.load( open( \"total_data.p\", \"rb\" ) )"
   ]
  },
  {
   "cell_type": "code",
   "execution_count": 3,
   "metadata": {
    "collapsed": false
   },
   "outputs": [
    {
     "data": {
      "text/plain": [
       "(33401, 64, 64, 1)"
      ]
     },
     "execution_count": 3,
     "metadata": {},
     "output_type": "execute_result"
    }
   ],
   "source": [
    "total_data[0:33401].shape"
   ]
  },
  {
   "cell_type": "code",
   "execution_count": 4,
   "metadata": {
    "collapsed": true
   },
   "outputs": [],
   "source": [
    "total_labels = pickle.load( open( \"total_labels.p\", \"rb\" ) )"
   ]
  },
  {
   "cell_type": "code",
   "execution_count": 5,
   "metadata": {
    "collapsed": false
   },
   "outputs": [
    {
     "data": {
      "text/plain": [
       "(33401, 5, 11)"
      ]
     },
     "execution_count": 5,
     "metadata": {},
     "output_type": "execute_result"
    }
   ],
   "source": [
    "total_labels.shape"
   ]
  },
  {
   "cell_type": "code",
   "execution_count": 6,
   "metadata": {
    "collapsed": true
   },
   "outputs": [],
   "source": [
    "total_test_data = pickle.load( open( \"total_test_data.p\", \"rb\" ) )"
   ]
  },
  {
   "cell_type": "code",
   "execution_count": 7,
   "metadata": {
    "collapsed": true
   },
   "outputs": [],
   "source": [
    "total_test_labels = pickle.load( open( \"total_test_labels.p\", \"rb\" ) )"
   ]
  },
  {
   "cell_type": "code",
   "execution_count": 8,
   "metadata": {
    "collapsed": false
   },
   "outputs": [
    {
     "data": {
      "text/plain": [
       "(13066, 64, 64, 1)"
      ]
     },
     "execution_count": 8,
     "metadata": {},
     "output_type": "execute_result"
    }
   ],
   "source": [
    "total_test_data = total_test_data[0:13066]\n",
    "total_test_data.shape"
   ]
  },
  {
   "cell_type": "code",
   "execution_count": 9,
   "metadata": {
    "collapsed": false
   },
   "outputs": [
    {
     "data": {
      "text/plain": [
       "(13066, 11)"
      ]
     },
     "execution_count": 9,
     "metadata": {},
     "output_type": "execute_result"
    }
   ],
   "source": [
    "total_test_labels[:,0].shape"
   ]
  },
  {
   "cell_type": "code",
   "execution_count": 10,
   "metadata": {
    "collapsed": true
   },
   "outputs": [],
   "source": [
    "def accuracy2(pred_labels1,pred_labels2,pred_labels3,pred_labels4,pred_labels5,true_labels1,true_labels2,true_labels3,true_labels4,true_labels5):\n",
    "    ar = np.sum((np.array([np.argmax(pred_labels1, 1), np.argmax(pred_labels2, 1),np.argmax(pred_labels3, 1),np.argmax(pred_labels4, 1),np.argmax(pred_labels5, 1)]) \n",
    "  == np.array([np.argmax(true_labels1, 1),np.argmax(true_labels2, 1),np.argmax(true_labels3, 1),np.argmax(true_labels4, 1),np.argmax(true_labels5, 1)])),axis=0)\n",
    "    count = 0\n",
    "    for elem in ar:\n",
    "        if elem == 5:\n",
    "            count = count + 1\n",
    "    return ((100.0 * count)/pred_labels1.shape[0])"
   ]
  },
  {
   "cell_type": "code",
   "execution_count": null,
   "metadata": {
    "collapsed": true
   },
   "outputs": [],
   "source": []
  },
  {
   "cell_type": "code",
   "execution_count": null,
   "metadata": {
    "collapsed": false
   },
   "outputs": [],
   "source": []
  },
  {
   "cell_type": "code",
   "execution_count": 11,
   "metadata": {
    "collapsed": true
   },
   "outputs": [],
   "source": [
    "def accuracy(predictions, labels):\n",
    "  return (100.0 * np.sum(np.argmax(predictions, 1) == np.argmax(labels, 1))\n",
    "          / predictions.shape[0])"
   ]
  },
  {
   "cell_type": "code",
   "execution_count": 13,
   "metadata": {
    "collapsed": false
   },
   "outputs": [],
   "source": [
    "batch_size = 16\n",
    "patch_size = 5 #Convolution filters are 5 x 5 pixels.\n",
    "depth = 16\n",
    "num_hidden = 32  # Number of neurons in fully-connected layer.\n",
    "image_size = 64\n",
    "num_labels = 11\n",
    "num_channels = 1 # grayscale # Number of colour channels for the images: 1 channel for gray-scale.\n",
    "\n",
    "\n",
    "graph = tf.Graph()\n",
    "\n",
    "with graph.as_default():\n",
    "\n",
    "  # Input data.\n",
    "    tf_train_dataset = tf.placeholder(\n",
    "        tf.float32, shape=(batch_size, image_size, image_size, num_channels))\n",
    "    tf_train_labels0 = tf.placeholder(tf.float32, shape=(batch_size, num_labels))\n",
    "    tf_train_labels1 = tf.placeholder(tf.float32, shape=(batch_size, num_labels))\n",
    "    tf_train_labels2 = tf.placeholder(tf.float32, shape=(batch_size, num_labels))\n",
    "    tf_train_labels3 = tf.placeholder(tf.float32, shape=(batch_size, num_labels))\n",
    "    tf_train_labels4 = tf.placeholder(tf.float32, shape=(batch_size, num_labels))\n",
    "  #tf_valid_dataset = tf.constant(valid_dataset)\n",
    "    tf_test_dataset = tf.placeholder(\n",
    "        tf.float32, shape=(batch_size, image_size, image_size, num_channels))\n",
    "    tf_test_labels0 = tf.placeholder(tf.float32, shape=(batch_size, num_labels))\n",
    "    tf_test_labels1 = tf.placeholder(tf.float32, shape=(batch_size, num_labels))\n",
    "    tf_test_labels2 = tf.placeholder(tf.float32, shape=(batch_size, num_labels))\n",
    "    tf_test_labels3 = tf.placeholder(tf.float32, shape=(batch_size, num_labels))\n",
    "    tf_test_labels4 = tf.placeholder(tf.float32, shape=(batch_size, num_labels))\n",
    "    \n",
    "\n",
    "# Variables.\n",
    "    layer1_weights = tf.Variable(tf.truncated_normal(\n",
    "        [patch_size, patch_size, num_channels, depth], stddev=0.1))\n",
    "    layer1_biases = tf.Variable(tf.zeros([depth]))\n",
    "    layer2_weights = tf.Variable(tf.truncated_normal(\n",
    "        [patch_size, patch_size, depth, depth], stddev=0.1))\n",
    "    layer2_biases = tf.Variable(tf.constant(1.0, shape=[depth]))\n",
    "    layer3_weights = tf.Variable(tf.truncated_normal(\n",
    "        [image_size // 4 * image_size // 4 * depth, num_hidden], stddev=0.1))\n",
    "    layer3_biases = tf.Variable(tf.constant(1.0, shape=[num_hidden]))\n",
    "    layer4_weights = tf.Variable(tf.truncated_normal(\n",
    "        [num_hidden, num_labels], stddev=0.1))\n",
    "    layer4_biases = tf.Variable(tf.constant(1.0, shape=[num_labels]))\n",
    "    layer4_weights_out1 = tf.Variable(tf.truncated_normal(\n",
    "        [num_hidden, num_labels], stddev=0.1), dtype= tf.float32, name = \"weightsout1\")\n",
    "    layer4_biases_out1 = tf.Variable(tf.constant(1.0, shape=[num_labels]), name = \"biasout1\")\n",
    "    layer4_weights_out2 = tf.Variable(tf.truncated_normal(\n",
    "        [num_hidden, num_labels], stddev=0.1), dtype= tf.float32, name = \"weightsout2\")\n",
    "    layer4_biases_out2 = tf.Variable(tf.constant(1.0, shape=[num_labels]), name = \"biasout2\")\n",
    "    layer4_weights_out3 = tf.Variable(tf.truncated_normal(\n",
    "        [num_hidden, num_labels], stddev=0.1), dtype= tf.float32, name = \"weightsout3\")\n",
    "    layer4_biases_out3 = tf.Variable(tf.constant(1.0, shape=[num_labels]), name = \"biasout3\")\n",
    "    layer4_weights_out4 = tf.Variable(tf.truncated_normal(\n",
    "        [num_hidden, num_labels], stddev=0.1), dtype= tf.float32, name = \"weightsout4\")\n",
    "    layer4_biases_out4 = tf.Variable(tf.constant(1.0, shape=[num_labels]), name = \"biasout4\")\n",
    "    layer4_weights_out5 = tf.Variable(tf.truncated_normal(\n",
    "        [num_hidden, num_labels], stddev=0.1), dtype= tf.float32, name = \"weightsout5\")\n",
    "    layer4_biases_out5 = tf.Variable(tf.constant(1.0, shape=[num_labels]), name = \"biasout5\")\n",
    "\n",
    "\n",
    "\n",
    "  # Model.\n",
    "    def model(data):\n",
    "        \n",
    "        conv = tf.nn.conv2d(data, layer1_weights, [1, 1, 1, 1], padding='SAME')\n",
    "        hidden = tf.nn.relu(conv + layer1_biases)\n",
    "        h_pool1 = tf.nn.max_pool(hidden,ksize=[1, 2, 2, 1],strides=[1, 2, 2, 1], padding='SAME')\n",
    "        conv = tf.nn.conv2d(h_pool1, layer2_weights, [1, 1, 1, 1], padding='SAME')\n",
    "        #h_conv2 = tf.nn.relu(conv2d(h_pool1, W_conv2) + b_conv2)\n",
    "        hidden = tf.nn.relu(conv + layer2_biases)\n",
    "        h_pool2 = tf.nn.max_pool(hidden,ksize=[1, 2, 2, 1],strides=[1, 2, 2, 1], padding='SAME')\n",
    "        shape = h_pool2.get_shape().as_list()\n",
    "        reshape = tf.reshape(h_pool2, [shape[0], shape[1] * shape[2] * shape[3]])\n",
    "        hidden = tf.nn.relu(tf.matmul(reshape, layer3_weights) + layer3_biases)\n",
    "        logits1 = tf.matmul(hidden, layer4_weights_out1) + layer4_biases_out1\n",
    "        logits2 = tf.matmul(hidden, layer4_weights_out2) + layer4_biases_out2\n",
    "        logits3 = tf.matmul(hidden, layer4_weights_out3) + layer4_biases_out3\n",
    "        logits4 = tf.matmul(hidden, layer4_weights_out4) + layer4_biases_out4\n",
    "        logits5 = tf.matmul(hidden, layer4_weights_out5) + layer4_biases_out5\n",
    "        \n",
    "        return logits1, logits2, logits3, logits4, logits5\n",
    "\n",
    "\n",
    "  \n",
    "  # Training computation.\n",
    "    logits1, logits2, logits3, logits4, logits5 = model(tf_train_dataset)\n",
    "    loss = tf.reduce_mean(\n",
    "        tf.nn.softmax_cross_entropy_with_logits(logits1, tf_train_labels0)) + tf.reduce_mean(\n",
    "        tf.nn.softmax_cross_entropy_with_logits(logits2, tf_train_labels1)) + tf.reduce_mean(\n",
    "        tf.nn.softmax_cross_entropy_with_logits(logits3, tf_train_labels2)) + tf.reduce_mean(\n",
    "        tf.nn.softmax_cross_entropy_with_logits(logits4, tf_train_labels3)) + tf.reduce_mean(\n",
    "        tf.nn.softmax_cross_entropy_with_logits(logits5, tf_train_labels4))\n",
    "    \n",
    "    #global_step = tf.Variable(0)\n",
    "    #learning_rate = tf.train.exponential_decay(0.1, global_step, 1000, 0.96, staircase=True )\n",
    "  # Optimizer.\n",
    "    #optimizer = tf.train.MomentumOptimizer(learning_rate=0.025, momentum = 0.9).minimize(loss)\n",
    "    optimizer = tf.train.AdagradOptimizer(0.05).minimize(loss)\n",
    "  \n",
    "# Predictions for the training, validation, and test data.\n",
    "    train_prediction1 = tf.nn.softmax(logits1)\n",
    "    train_prediction2 = tf.nn.softmax(logits2)\n",
    "    train_prediction3 = tf.nn.softmax(logits3)\n",
    "    train_prediction4 = tf.nn.softmax(logits4)\n",
    "    train_prediction5 = tf.nn.softmax(logits5)\n",
    "    #valid_prediction = tf.nn.softmax(model(tf_valid_dataset))\n",
    "    test_prediction1 = tf.nn.softmax(model(tf_test_dataset)[0])\n",
    "    test_prediction2 = tf.nn.softmax(model(tf_test_dataset)[1])\n",
    "    test_prediction3 = tf.nn.softmax(model(tf_test_dataset)[2])\n",
    "    test_prediction4 = tf.nn.softmax(model(tf_test_dataset)[3])\n",
    "    test_prediction5 = tf.nn.softmax(model(tf_test_dataset)[4])"
   ]
  },
  {
   "cell_type": "code",
   "execution_count": 14,
   "metadata": {
    "collapsed": false
   },
   "outputs": [
    {
     "name": "stdout",
     "output_type": "stream",
     "text": [
      "Initialized\n",
      "Minibatch loss at step 0: 16.267078\n",
      "Minibatch accuracy of 1st digit: 0.0%\n",
      "Minibatch accuracy: 5.0%\n",
      "Minibatch accuracy of sequence: 0.0%\n",
      "Minibatch loss at step 500: 5.738986\n",
      "Minibatch accuracy of 1st digit: 12.5%\n",
      "Minibatch accuracy: 65.0%\n",
      "Minibatch accuracy of sequence: 0.0%\n",
      "Minibatch loss at step 1000: 6.612051\n",
      "Minibatch accuracy of 1st digit: 37.5%\n",
      "Minibatch accuracy: 60.0%\n",
      "Minibatch accuracy of sequence: 6.2%\n",
      "Minibatch loss at step 1500: 5.434232\n",
      "Minibatch accuracy of 1st digit: 37.5%\n",
      "Minibatch accuracy: 66.2%\n",
      "Minibatch accuracy of sequence: 6.2%\n",
      "Minibatch loss at step 2000: 6.687022\n",
      "Minibatch accuracy of 1st digit: 43.8%\n",
      "Minibatch accuracy: 60.0%\n",
      "Minibatch accuracy of sequence: 6.2%\n",
      "Minibatch loss at step 2500: 5.342072\n",
      "Minibatch accuracy of 1st digit: 62.5%\n",
      "Minibatch accuracy: 63.8%\n",
      "Minibatch accuracy of sequence: 0.0%\n",
      "Minibatch loss at step 3000: 3.756052\n",
      "Minibatch accuracy of 1st digit: 43.8%\n",
      "Minibatch accuracy: 77.5%\n",
      "Minibatch accuracy of sequence: 25.0%\n",
      "Minibatch loss at step 3500: 4.367487\n",
      "Minibatch accuracy of 1st digit: 43.8%\n",
      "Minibatch accuracy: 73.8%\n",
      "Minibatch accuracy of sequence: 12.5%\n",
      "Minibatch loss at step 4000: 3.735777\n",
      "Minibatch accuracy of 1st digit: 68.8%\n",
      "Minibatch accuracy: 73.8%\n",
      "Minibatch accuracy of sequence: 18.8%\n",
      "Minibatch loss at step 4500: 3.552976\n",
      "Minibatch accuracy of 1st digit: 87.5%\n",
      "Minibatch accuracy: 76.2%\n",
      "Minibatch accuracy of sequence: 18.8%\n",
      "Minibatch loss at step 5000: 2.885586\n",
      "Minibatch accuracy of 1st digit: 68.8%\n",
      "Minibatch accuracy: 80.0%\n",
      "Minibatch accuracy of sequence: 25.0%\n",
      "Minibatch loss at step 5500: 3.781700\n",
      "Minibatch accuracy of 1st digit: 62.5%\n",
      "Minibatch accuracy: 75.0%\n",
      "Minibatch accuracy of sequence: 25.0%\n",
      "Minibatch loss at step 6000: 3.905428\n",
      "Minibatch accuracy of 1st digit: 68.8%\n",
      "Minibatch accuracy: 78.8%\n",
      "Minibatch accuracy of sequence: 43.8%\n",
      "Minibatch loss at step 6500: 2.913687\n",
      "Minibatch accuracy of 1st digit: 81.2%\n",
      "Minibatch accuracy: 78.8%\n",
      "Minibatch accuracy of sequence: 31.2%\n",
      "Minibatch loss at step 7000: 2.682027\n",
      "Minibatch accuracy of 1st digit: 75.0%\n",
      "Minibatch accuracy: 83.8%\n",
      "Minibatch accuracy of sequence: 50.0%\n",
      "Minibatch loss at step 7500: 2.965526\n",
      "Minibatch accuracy of 1st digit: 68.8%\n",
      "Minibatch accuracy: 82.5%\n",
      "Minibatch accuracy of sequence: 43.8%\n",
      "Minibatch loss at step 8000: 2.908171\n",
      "Minibatch accuracy of 1st digit: 75.0%\n",
      "Minibatch accuracy: 78.8%\n",
      "Minibatch accuracy of sequence: 37.5%\n",
      "Minibatch loss at step 8500: 2.374192\n",
      "Minibatch accuracy of 1st digit: 75.0%\n",
      "Minibatch accuracy: 82.5%\n",
      "Minibatch accuracy of sequence: 43.8%\n",
      "Minibatch loss at step 9000: 2.882427\n",
      "Minibatch accuracy of 1st digit: 81.2%\n",
      "Minibatch accuracy: 81.2%\n",
      "Minibatch accuracy of sequence: 37.5%\n",
      "Minibatch loss at step 9500: 3.555647\n",
      "Minibatch accuracy of 1st digit: 62.5%\n",
      "Minibatch accuracy: 81.2%\n",
      "Minibatch accuracy of sequence: 37.5%\n",
      "Minibatch loss at step 10000: 3.191533\n",
      "Minibatch accuracy of 1st digit: 75.0%\n",
      "Minibatch accuracy: 81.2%\n",
      "Minibatch accuracy of sequence: 50.0%\n",
      "Test accuracy of mini-batch: 87.5%\n",
      "Test accuracy of sequence:  50.0%\n",
      "Test accuracy of mini-batch: 76.2%\n",
      "Test accuracy of sequence:  43.8%\n",
      "Test accuracy of mini-batch: 85.0%\n",
      "Test accuracy of sequence:  56.2%\n",
      "Test accuracy of mini-batch: 77.5%\n",
      "Test accuracy of sequence:  43.8%\n",
      "Test accuracy of mini-batch: 77.5%\n",
      "Test accuracy of sequence:  37.5%\n",
      "Test accuracy of mini-batch: 85.0%\n",
      "Test accuracy of sequence:  43.8%\n",
      "Test accuracy of mini-batch: 91.2%\n",
      "Test accuracy of sequence:  68.8%\n",
      "Test accuracy of mini-batch: 83.8%\n",
      "Test accuracy of sequence:  50.0%\n",
      "Test accuracy of mini-batch: 83.8%\n",
      "Test accuracy of sequence:  43.8%\n",
      "Test accuracy of mini-batch: 87.5%\n",
      "Test accuracy of sequence:  56.2%\n",
      "Test accuracy of mini-batch: 88.8%\n",
      "Test accuracy of sequence:  43.8%\n",
      "Test accuracy of mini-batch: 83.8%\n",
      "Test accuracy of sequence:  43.8%\n",
      "Test accuracy of mini-batch: 86.2%\n",
      "Test accuracy of sequence:  62.5%\n",
      "Test accuracy of mini-batch: 83.8%\n",
      "Test accuracy of sequence:  37.5%\n",
      "Test accuracy of mini-batch: 78.8%\n",
      "Test accuracy of sequence:  25.0%\n",
      "Test accuracy of mini-batch: 86.2%\n",
      "Test accuracy of sequence:  50.0%\n",
      "Test accuracy of mini-batch: 78.8%\n",
      "Test accuracy of sequence:  43.8%\n",
      "Total Test accuracy : 83.6%\n",
      "Total Test accuracy sequence: 47.1%\n",
      "Time usage: 0:13:37\n"
     ]
    }
   ],
   "source": [
    "num_steps = 10001\n",
    "t_num_steps = 13066 // 16\n",
    "test_acc = []\n",
    "test_acc_seq = []\n",
    "\n",
    "with tf.Session(graph=graph) as session:\n",
    "        \n",
    "        # Start-time used for printing time-usage below.\n",
    "    start_time = time.time()\n",
    "    \n",
    "    tf.initialize_all_variables().run()\n",
    "\n",
    "    print('Initialized')\n",
    "    for step in range(num_steps):\n",
    "        offset = (step * batch_size) % (total_labels[:,0].shape[0] - batch_size)\n",
    "        batch_data = total_data[0:33401][offset:(offset + batch_size), :, :, :]\n",
    "        batch_labels0 = total_labels[:,0][offset:(offset + batch_size), :]\n",
    "        batch_labels1 = total_labels[:,1][offset:(offset + batch_size), :]\n",
    "        batch_labels2 = total_labels[:,2][offset:(offset + batch_size), :]\n",
    "        batch_labels3 = total_labels[:,3][offset:(offset + batch_size), :]\n",
    "        batch_labels4 = total_labels[:,4][offset:(offset + batch_size), :]\n",
    "        feed_dict = {tf_train_dataset : batch_data, tf_train_labels0 : batch_labels0,\n",
    "                     tf_train_labels1 : batch_labels1, tf_train_labels2 : batch_labels2, \n",
    "                     tf_train_labels3 : batch_labels3, tf_train_labels4 : batch_labels4}\n",
    "        _, l, predictions1, predictions2, predictions3, predictions4, predictions5 = session.run(\n",
    "          [optimizer, loss, train_prediction1, train_prediction2, train_prediction3,\n",
    "           train_prediction4, train_prediction5], feed_dict=feed_dict)\n",
    "    \n",
    "        if (step % 500 == 0):\n",
    "          print('Minibatch loss at step %d: %f' % (step, l))\n",
    "          a1 = accuracy(predictions1, batch_labels0)\n",
    "          a2 = accuracy(predictions2, batch_labels1)\n",
    "          a3 = accuracy(predictions3, batch_labels2)\n",
    "          a4 = accuracy(predictions4, batch_labels3)\n",
    "          a5 = accuracy(predictions5, batch_labels4)\n",
    "          print('Minibatch accuracy of 1st digit: %.1f%%' % accuracy(predictions1, batch_labels0))\n",
    "          print('Minibatch accuracy: %.1f%%' % np.mean(np.array((a1,a2,a3,a4,a5),dtype = np.float32)))\n",
    "          print('Minibatch accuracy of sequence: %.1f%%' % accuracy2(predictions1,predictions2,\n",
    "                                                                     predictions3,predictions4,\n",
    "                                                                     predictions5,batch_labels0,\n",
    "                                                                     batch_labels1,batch_labels2,\n",
    "                                                                     batch_labels3,batch_labels4))\n",
    "        \n",
    "    for step in range(t_num_steps):\n",
    "        offset = (step * batch_size) % (total_test_labels[:,0].shape[0] - batch_size)\n",
    "        batch_test_data = total_test_data[offset:(offset + batch_size), :, :, :]\n",
    "        batch_test_labels0 = total_test_labels[:,0][offset:(offset + batch_size), :]\n",
    "        batch_test_labels1 = total_test_labels[:,1][offset:(offset + batch_size), :]\n",
    "        batch_test_labels2 = total_test_labels[:,2][offset:(offset + batch_size), :]\n",
    "        batch_test_labels3 = total_test_labels[:,3][offset:(offset + batch_size), :]\n",
    "        batch_test_labels4 = total_test_labels[:,4][offset:(offset + batch_size), :]\n",
    "        feed_dict = {tf_test_dataset : batch_test_data, tf_test_labels0 : batch_test_labels0,\n",
    "                     tf_test_labels1 : batch_test_labels1, tf_test_labels2 : batch_test_labels2, \n",
    "                     tf_test_labels3 : batch_test_labels3, tf_test_labels4 : batch_test_labels4}\n",
    "        t_prediction1, t_prediction2, t_prediction3, t_prediction4, t_prediction5 = session.run(\n",
    "          [test_prediction1, test_prediction2, test_prediction3,\n",
    "           test_prediction4, test_prediction5], feed_dict=feed_dict)\n",
    "    \n",
    "        if (step % 50 == 0):\n",
    "            #print('Minibatch loss at step %d: %f' % (step, l))\n",
    "            t1 = accuracy(t_prediction1, batch_test_labels0)\n",
    "            t2 = accuracy(t_prediction2, batch_test_labels1)\n",
    "            t3 = accuracy(t_prediction3, batch_test_labels2)\n",
    "            t4 = accuracy(t_prediction4, batch_test_labels3)\n",
    "            t5 = accuracy(t_prediction5, batch_test_labels4)\n",
    "            print('Test accuracy of mini-batch: %.1f%%' % np.mean(np.array((t1,t2,t3,t4,t5),dtype = np.float32)))\n",
    "            test_acc.append(np.mean(np.array((t1,t2,t3,t4,t5),dtype = np.float32)))\n",
    "            t_acc_seq = accuracy2(t_prediction1, t_prediction2, t_prediction3, t_prediction4,\n",
    "                                  t_prediction5, batch_test_labels0, batch_test_labels1,\n",
    "                                  batch_test_labels2, batch_test_labels3, batch_test_labels4)\n",
    "            print('Test accuracy of sequence:  %.1f%%' % t_acc_seq)\n",
    "            test_acc_seq.append(t_acc_seq)\n",
    "            \n",
    "            \n",
    "    print('Total Test accuracy : %.1f%%' % np.mean(test_acc))\n",
    "    print('Total Test accuracy sequence: %.1f%%' % np.mean(test_acc_seq))\n",
    "    \n",
    "        # Ending time.\n",
    "    end_time = time.time()\n",
    "    \n",
    "    time_dif = end_time - start_time\n",
    "\n",
    "    # Print the time-usage.\n",
    "    print(\"Time usage: \" + str(timedelta(seconds=int(round(time_dif)))))\n",
    "    \n",
    "[0,0,6.2,6.2,6.2,0,25,12.5,18.8,18.8,25,25,43.8,31.2,50,43.8,37.3,37.3,43.8,50]"
   ]
  },
  {
   "cell_type": "code",
   "execution_count": 6,
   "metadata": {
    "collapsed": true
   },
   "outputs": [],
   "source": [
    "%matplotlib inline\n",
    "\n",
    "import matplotlib.pyplot as plt\n"
   ]
  },
  {
   "cell_type": "code",
   "execution_count": 9,
   "metadata": {
    "collapsed": false
   },
   "outputs": [
    {
     "data": {
      "image/png": "[encoded data removed]",
      "text/plain": [
       "<matplotlib.figure.Figure at 0x7fe65e936d10>"
      ]
     },
     "metadata": {},
     "output_type": "display_data"
    }
   ],
   "source": [
    "plt.plot([0,0,6.2,6.2,6.2,0,25,12.5,18.8,18.8,25,25,43.8,31.2,50,43.8,37.3,37.3,43.8,37.5,50],\n",
    "         [x for x in range(0,10500,500)])\n",
    "plt.suptitle('Training Accuracy level as per metric two', fontsize=20)\n",
    "plt.xlabel('Percentage of Accuracy Level', fontsize=18)\n",
    "plt.ylabel('Number of steps', fontsize=16)\n",
    "plt.show()"
   ]
  },
  {
   "cell_type": "code",
   "execution_count": null,
   "metadata": {
    "collapsed": true
   },
   "outputs": [],
   "source": []
  }
 ],
 "metadata": {
  "kernelspec": {
   "display_name": "Python [Root]",
   "language": "python",
   "name": "Python [Root]"
  },
  "language_info": {
   "codemirror_mode": {
    "name": "ipython",
    "version": 2
   },
   "file_extension": ".py",
   "mimetype": "text/x-python",
   "name": "python",
   "nbconvert_exporter": "python",
   "pygments_lexer": "ipython2",
   "version": "2.7.11"
  }
 },
 "nbformat": 4,
 "nbformat_minor": 0
}
